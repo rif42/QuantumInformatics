{
 "cells": [
  {
   "cell_type": "markdown",
   "metadata": {},
   "source": [
    "# Quantum Informatics\n",
    "## Basics of Quantum Theory (meeting 1-3)  \n",
    "\n",
    "Quantum theory, just like the name, is a theory about the behaviors and properties of sub-atomic particles. In this material, we're talking about electrons. \n",
    "There are a few fundamental properties of quantum particles that we need to understand:  \n",
    "\n",
    "### Spin  \n",
    "If we heat water, the hydrogen and oxygen atoms shake in place, getting excited. As a result, they expand to occupy more space. If the heat continues, eventually the atoms will shake so much, it frees itself from the others, entering a gaseous state. This example describes that the behavior of the atoms directly affects the behavior of the matter as a whole.  \n",
    "\n",
    "Just like the earth orbiting the sun while spinning in place, electrons also spin in place while orbiting the nucleus. They all spin in only one way, but has an infinite amount of possible angles or rotations.  \n",
    "\n",
    "![electron spins](./spin.gif)  \n",
    "\n",
    "Why electron spins? and does it spin at a different rate? we'll leave that to the Physicists. We're programmers, we just need to know the basics, then take advantage of its properties to perform work.  \n",
    "\n",
    "### Entanglement\n",
    "\n",
    "Electron is a subatomic particles that orbits the nucleus in multiple levels or shells. Each shell has a maximum number of electron. The number of maximum electron in the inner-most shell is always two, and they will always be entangled. \n",
    "\n",
    "![electron orbits](electronshell.png)  \n",
    "\n",
    "Entangled or paired electron always have opposite spins. if electron a and b are entangled, and electron a has 45deg spin (3 o-clock), then electron b will always has 315deg spin (9 o-clock) no matter what.  \n",
    "Logically, since the possibilites of spin variation is infinite, we would assume that electrons has a random spin directions such as 20deg, 92deg, 145deg and so on.  \n",
    "However, [Stern-Gerlach experiment](https://en.wikipedia.org/wiki/Stern%E2%80%93Gerlach_experiment) proved otherwise. \n",
    "\n",
    "<img src=\"./Stern-Gerlach_experiment.png\" width=\"500\" height=\"500\">\n",
    "\n",
    "The experiment shows that **measured** electrons only appears in two states instead of randomly infinte states as suggested earlier.  \n",
    "The explanation is that upon measuring the electron, the spin direction is **quantized**, meaning all infintely possible spin directions fall into two states: north and south or 1 and 0.  \n",
    "This checks out with the famous Schrodinger's Cat thought experiment.  \n",
    "\n",
    "### Qubits  \n",
    "Using these two unique properties of quantum particles, we can create a whole new circuitry out of qubits to program something.  \n",
    "Normal or classical bits has 2 states, 1 and 0. but qubits can have as many as it wants, because qubits follows the spin property, which has infinite amount of possible angles or rotations.  \n",
    "However, all quantum particles (therefore qubits) will be quantized when measured, so they become classical bits with 1 and 0.  \n"
   ]
  }
 ],
 "metadata": {
  "kernelspec": {
   "display_name": "Python 3",
   "language": "python",
   "name": "python3"
  },
  "language_info": {
   "codemirror_mode": {
    "name": "ipython",
    "version": 3
   },
   "file_extension": ".py",
   "mimetype": "text/x-python",
   "name": "python",
   "nbconvert_exporter": "python",
   "pygments_lexer": "ipython3",
   "version": "3.10.10"
  }
 },
 "nbformat": 4,
 "nbformat_minor": 2
}
