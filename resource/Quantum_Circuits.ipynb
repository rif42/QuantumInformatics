{
 "cells": [
  {
   "cell_type": "code",
   "execution_count": 1,
   "id": "8777015b",
   "metadata": {},
   "outputs": [],
   "source": [
    "#!pip3 install qiskit ipywidgets"
   ]
  },
  {
   "cell_type": "code",
   "execution_count": 2,
   "id": "30c92379",
   "metadata": {},
   "outputs": [],
   "source": [
    "#!pip3 install pylatexenc"
   ]
  },
  {
   "cell_type": "markdown",
   "id": "9beae237",
   "metadata": {},
   "source": [
    "## Qubit Tunggal"
   ]
  },
  {
   "cell_type": "code",
   "execution_count": 3,
   "id": "83aa2577",
   "metadata": {},
   "outputs": [],
   "source": [
    "import numpy as np\n",
    "import math\n",
    "from math import sqrt\n",
    "from qiskit import ClassicalRegister, QuantumRegister, QuantumCircuit\n",
    "from qiskit import execute\n",
    "from qiskit import Aer\n",
    "from qiskit import BasicAer\n",
    "from qiskit.tools.visualization import circuit_drawer\n",
    "from qiskit.tools.visualization import plot_histogram\n",
    "from qiskit.tools.visualization import plot_bloch_multivector\n",
    "from qiskit.quantum_info import Statevector\n",
    "from qiskit import transpile"
   ]
  },
  {
   "cell_type": "code",
   "execution_count": 4,
   "id": "bb9188f3",
   "metadata": {},
   "outputs": [
    {
     "ename": "NameError",
     "evalue": "name 'qc' is not defined",
     "output_type": "error",
     "traceback": [
      "\u001b[1;31m---------------------------------------------------------------------------\u001b[0m",
      "\u001b[1;31mNameError\u001b[0m                                 Traceback (most recent call last)",
      "\u001b[1;32mc:\\uni\\semester7\\quantum informatics\\Quantum_Circuits.ipynb Cell 5\u001b[0m line \u001b[0;36m2\n\u001b[0;32m      <a href='vscode-notebook-cell:/c%3A/uni/semester7/quantum%20informatics/Quantum_Circuits.ipynb#W4sZmlsZQ%3D%3D?line=0'>1</a>\u001b[0m simulator \u001b[39m=\u001b[39m Aer\u001b[39m.\u001b[39mget_backend(\u001b[39m\"\u001b[39m\u001b[39maer_simulator\u001b[39m\u001b[39m\"\u001b[39m) \u001b[39m# simulasi kuantum dilakukan di komputer lokal\u001b[39;00m\n\u001b[1;32m----> <a href='vscode-notebook-cell:/c%3A/uni/semester7/quantum%20informatics/Quantum_Circuits.ipynb#W4sZmlsZQ%3D%3D?line=1'>2</a>\u001b[0m qc\u001b[39m.\u001b[39msave_statevector()\n\u001b[0;32m      <a href='vscode-notebook-cell:/c%3A/uni/semester7/quantum%20informatics/Quantum_Circuits.ipynb#W4sZmlsZQ%3D%3D?line=2'>3</a>\u001b[0m tqc \u001b[39m=\u001b[39m transpile(qc, simulator)\n\u001b[0;32m      <a href='vscode-notebook-cell:/c%3A/uni/semester7/quantum%20informatics/Quantum_Circuits.ipynb#W4sZmlsZQ%3D%3D?line=3'>4</a>\u001b[0m job \u001b[39m=\u001b[39m simulator\u001b[39m.\u001b[39mrun(tqc)\n",
      "\u001b[1;31mNameError\u001b[0m: name 'qc' is not defined"
     ]
    }
   ],
   "source": [
    "simulator = Aer.get_backend(\"aer_simulator\") # simulasi kuantum dilakukan di komputer lokal\n",
    "qc.save_statevector()\n",
    "tqc = transpile(qc, simulator)\n",
    "job = simulator.run(tqc)\n",
    "result = job.result()\n",
    "statevector = result.get_statevector(tqc, 4)\n",
    "print(statevector)"
   ]
  },
  {
   "cell_type": "code",
   "execution_count": null,
   "id": "084944b7",
   "metadata": {},
   "outputs": [],
   "source": [
    "# Use Aer's qasm_simulator\n",
    "simulator = Aer.get_backend('qasm_simulator')\n",
    "job = execute(qc, simulator, shots=1)\n",
    "# Return counts\n",
    "counts = job.result().get_counts(qc)\n",
    "print(counts)\n",
    "plot_histogram(counts)"
   ]
  },
  {
   "cell_type": "code",
   "execution_count": null,
   "id": "4c4a1bb7",
   "metadata": {},
   "outputs": [],
   "source": [
    "print(counts)"
   ]
  },
  {
   "cell_type": "markdown",
   "id": "1520954a",
   "metadata": {},
   "source": [
    "### Multiple Qubit"
   ]
  },
  {
   "cell_type": "code",
   "execution_count": null,
   "id": "90e0afe3",
   "metadata": {},
   "outputs": [],
   "source": [
    "qc = QuantumCircuit(4)\n",
    "qc.h([0,1,3])                                 \n",
    "qc.x(1)                                 \n",
    "qc.barrier()\n",
    "qc.z(2)                                 \n",
    "qc.cx(0,1)                                 \n",
    "qc.cz(1,3)   \n",
    "qc.barrier()\n",
    "qc.ccx(0,2,3)\n",
    "qc.y([1,2])\n",
    "qc.cswap(0,2,3)                      # Control swap,       q0 = kontrol            q2 dan q3 melakukan swap\n",
    "qc.cnot(2,3)\n",
    "qc.y(0)\n",
    "qc.swap(0,1)\n",
    "qc.cy(0,[1,2,3])                     #Control Y,  q0 = kontrol         q1,q2,q3 = target\n",
    "display(plot_bloch_multivector(qc))\n",
    "qc.measure_all()                          \n",
    "display(qc.draw(output=\"mpl\"))            "
   ]
  },
  {
   "cell_type": "code",
   "execution_count": null,
   "id": "41e40822",
   "metadata": {},
   "outputs": [],
   "source": [
    "simulator = Aer.get_backend(\"aer_simulator\")\n",
    "qc.save_statevector()\n",
    "tqc = transpile(qc, simulator)\n",
    "job = simulator.run(tqc)\n",
    "result = job.result()\n",
    "statevector = result.get_statevector(tqc, 4)\n",
    "print(statevector)"
   ]
  },
  {
   "cell_type": "code",
   "execution_count": null,
   "id": "d8718ac0",
   "metadata": {},
   "outputs": [],
   "source": [
    "# Use Aer's qasm_simulator\n",
    "simulator = Aer.get_backend('qasm_simulator')\n",
    "job = execute(qc, simulator, shots=1000)\n",
    "# Return counts\n",
    "counts = job.result().get_counts(qc)\n",
    "print(counts)\n",
    "plot_histogram(counts)"
   ]
  },
  {
   "cell_type": "code",
   "execution_count": null,
   "id": "e5c98c71",
   "metadata": {},
   "outputs": [],
   "source": []
  }
 ],
 "metadata": {
  "kernelspec": {
   "display_name": "Python 3",
   "language": "python",
   "name": "python3"
  },
  "language_info": {
   "codemirror_mode": {
    "name": "ipython",
    "version": 3
   },
   "file_extension": ".py",
   "mimetype": "text/x-python",
   "name": "python",
   "nbconvert_exporter": "python",
   "pygments_lexer": "ipython3",
   "version": "3.10.10"
  }
 },
 "nbformat": 4,
 "nbformat_minor": 5
}
