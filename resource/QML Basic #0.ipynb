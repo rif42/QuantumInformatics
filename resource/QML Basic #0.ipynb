{
 "cells": [
  {
   "cell_type": "markdown",
   "id": "60b72125",
   "metadata": {},
   "source": [
    "# Quantum Neural Network (QNN) - Basic"
   ]
  },
  {
   "cell_type": "code",
   "execution_count": 1,
   "id": "688571e4",
   "metadata": {},
   "outputs": [],
   "source": [
    "# Impor librari\n",
    "import numpy as np\n",
    "import matplotlib.pyplot as plt\n",
    "\n",
    "from qiskit import QuantumCircuit, Aer, execute\n",
    "from qiskit.circuit.library import ZZFeatureMap\n",
    "from qiskit.circuit.library import ZFeatureMap\n",
    "from qiskit.circuit.library import PauliFeatureMap\n",
    "from qiskit.quantum_info import Statevector\n",
    "from qiskit.visualization import plot_histogram, plot_bloch_vector, plot_bloch_multivector, circuit_drawer\n",
    "\n",
    "from sympy import symbols, sqrt, latex\n",
    "\n",
    "from PIL import Image"
   ]
  },
  {
   "cell_type": "markdown",
   "id": "a47cc45e",
   "metadata": {},
   "source": [
    "# 1. Representasi fitur klasik ke keadaan kuantum & superposisi"
   ]
  },
  {
   "cell_type": "markdown",
   "id": "d32fb05b",
   "metadata": {},
   "source": [
    "- Gate:\n",
    "  - Encoding basis Hadamard (h)\n",
    "  - Rotasi arbitrer (rx, ry, rz)  \n",
    "  - Pauli (x, y, z)"
   ]
  },
  {
   "cell_type": "markdown",
   "id": "7c363a0f",
   "metadata": {},
   "source": [
    "### Single Qubit"
   ]
  },
  {
   "cell_type": "code",
   "execution_count": 2,
   "id": "3b45e4e6",
   "metadata": {},
   "outputs": [],
   "source": [
    "# 1 fitur klasik\n",
    "x = 5"
   ]
  },
  {
   "cell_type": "code",
   "execution_count": 3,
   "id": "4cbfd9c0",
   "metadata": {},
   "outputs": [
    {
     "name": "stdout",
     "output_type": "stream",
     "text": [
      "   ┌───┐\n",
      "q: ┤ H ├\n",
      "   └───┘\n",
      "Statevector([0.70710678+0.j, 0.70710678+0.j],\n",
      "            dims=(2,))\n"
     ]
    }
   ],
   "source": [
    "# Membuat QC dengan 1 qubit \n",
    "qc1 = QuantumCircuit(1)\n",
    "\n",
    "# Rotasi X pada qubit dengan nilai fitur x sebagai sudut rotasi\n",
    "qc1.h(0)\n",
    "\n",
    "# Menjalankan QC pada simulator statevector\n",
    "simulator = Aer.get_backend('statevector_simulator')\n",
    "result = execute(qc1, simulator).result()\n",
    "statevector = result.get_statevector()\n",
    "\n",
    "# Menampilkan QC\n",
    "print(qc1)\n",
    "\n",
    "# Menampilkan hasil statevector\n",
    "print(statevector)"
   ]
  },
  {
   "cell_type": "code",
   "execution_count": 4,
   "id": "0a120579",
   "metadata": {},
   "outputs": [
    {
     "data": {
      "image/png": "[encoded data removed]",
      "text/plain": [
       "<Figure size 185.453x117.056 with 1 Axes>"
      ]
     },
     "execution_count": 4,
     "metadata": {},
     "output_type": "execute_result"
    }
   ],
   "source": [
    "qc1.decompose().draw(output=\"mpl\", fold=50)          # fold=50, maksimal blok-gate yang tampil dalam satu baris"
   ]
  },
  {
   "cell_type": "markdown",
   "id": "be92e5fd",
   "metadata": {},
   "source": [
    "- Hasil statevector [0.70710678+0.j, 0.70710678+0.j] menunjukkan bahwa setelah menerapkan gate Hadamard pada qubit 0 (dalam sirkuit kuantum dengan 1 qubit), qubit tersebut berada dalam superposisi merata antara keadaan ∣0⟩ dan ∣1⟩ dengan nilai amplitudo masing-masing 1/sqrt(2) atau 0.70710678."
   ]
  },
  {
   "cell_type": "code",
   "execution_count": 5,
   "id": "12de7134",
   "metadata": {},
   "outputs": [
    {
     "name": "stdout",
     "output_type": "stream",
     "text": [
      "   ┌───────┐\n",
      "q: ┤ Rx(5) ├\n",
      "   └───────┘\n",
      "Statevector([-0.80114362+0.j        ,  0.        -0.59847214j],\n",
      "            dims=(2,))\n"
     ]
    }
   ],
   "source": [
    "# Membuat QC dengan 1 qubit \n",
    "qc2 = QuantumCircuit(1)\n",
    "\n",
    "# Rotasi X pada qubit dengan nilai fitur x sebagai sudut rotasi\n",
    "qc2.rx(x, 0)\n",
    "\n",
    "simulator = Aer.get_backend('statevector_simulator')\n",
    "result = execute(qc2, simulator).result()\n",
    "statevector = result.get_statevector()\n",
    "print(qc2)\n",
    "print(statevector)"
   ]
  },
  {
   "cell_type": "code",
   "execution_count": 6,
   "id": "e1ecee23",
   "metadata": {},
   "outputs": [
    {
     "data": {
      "image/png": "[encoded data removed]",
      "text/plain": [
       "<Figure size 185.453x117.056 with 1 Axes>"
      ]
     },
     "execution_count": 6,
     "metadata": {},
     "output_type": "execute_result"
    }
   ],
   "source": [
    "qc2.decompose().draw(output=\"mpl\", fold=50)         "
   ]
  },
  {
   "cell_type": "markdown",
   "id": "812541a5",
   "metadata": {},
   "source": [
    "- Nilai fitur klasik (x1 = 5) sebagai nilai sudut (dalam radian) pada operasi rotasi (Rx) pada qubit tunggal (qubit 0) dalam sirkuit kuantum, sehingga memutar qubit 0 sebesar x1 radian sepanjang sumbu X.\n",
    "- Statevector menunjukkan representasi keadaan kuantum dari qubit dengan amplitudo probabilitas (−0.80114362 + 0j) untuk keadaan dasar ∣0⟩ dan (0 − 0.59847214j) untuk keadaan dasar ∣1⟩. "
   ]
  },
  {
   "cell_type": "code",
   "execution_count": 7,
   "id": "3c87a64e",
   "metadata": {},
   "outputs": [
    {
     "name": "stdout",
     "output_type": "stream",
     "text": [
      "   ┌───┐\n",
      "q: ┤ X ├\n",
      "   └───┘\n",
      "Statevector([0.+0.j, 1.+0.j],\n",
      "            dims=(2,))\n"
     ]
    }
   ],
   "source": [
    "# Membuat QC dengan 1 qubit \n",
    "qc3 = QuantumCircuit(1)\n",
    "\n",
    "# Gerbang Pauli-x pada qubit \n",
    "qc3.x(0)\n",
    "\n",
    "simulator = Aer.get_backend('statevector_simulator')\n",
    "result = execute(qc3, simulator).result()\n",
    "statevector = result.get_statevector()\n",
    "print(qc3)\n",
    "print(statevector)"
   ]
  },
  {
   "cell_type": "code",
   "execution_count": 8,
   "id": "4b1fac04",
   "metadata": {},
   "outputs": [
    {
     "data": {
      "image/png": "[encoded data removed]",
      "text/plain": [
       "<Figure size 185.453x117.056 with 1 Axes>"
      ]
     },
     "execution_count": 8,
     "metadata": {},
     "output_type": "execute_result"
    }
   ],
   "source": [
    "qc3.decompose().draw(output=\"mpl\", fold=50)          "
   ]
  },
  {
   "cell_type": "code",
   "execution_count": 9,
   "id": "7ffb554d",
   "metadata": {},
   "outputs": [
    {
     "name": "stdout",
     "output_type": "stream",
     "text": [
      "   ┌───┐┌───────┐\n",
      "q: ┤ H ├┤ Rx(5) ├\n",
      "   └───┘└───────┘\n",
      "Statevector([-0.56649408-0.42318371j, -0.56649408-0.42318371j],\n",
      "            dims=(2,))\n"
     ]
    }
   ],
   "source": [
    "# QC dengan 1 qubit\n",
    "qc4 = QuantumCircuit(1)\n",
    "\n",
    "# Hadamard dan Rotasi X (Pauli-X) pada qubit\n",
    "qc4.h(0)\n",
    "qc4.rx(x, 0)                             \n",
    "\n",
    "simulator = Aer.get_backend('statevector_simulator')\n",
    "result = execute(qc4, simulator).result()\n",
    "statevector = result.get_statevector()\n",
    "print(qc4)\n",
    "print(statevector)"
   ]
  },
  {
   "cell_type": "code",
   "execution_count": 10,
   "id": "a602113e",
   "metadata": {},
   "outputs": [
    {
     "data": {
      "image/png": "[encoded data removed]",
      "text/plain": [
       "<Figure size 269.064x117.056 with 1 Axes>"
      ]
     },
     "execution_count": 10,
     "metadata": {},
     "output_type": "execute_result"
    }
   ],
   "source": [
    "qc4.decompose().draw(output=\"mpl\", fold=50)          "
   ]
  },
  {
   "cell_type": "markdown",
   "id": "986db74b",
   "metadata": {},
   "source": [
    "### Multi Qubit"
   ]
  },
  {
   "cell_type": "code",
   "execution_count": 11,
   "id": "f4e41ad4",
   "metadata": {},
   "outputs": [],
   "source": [
    "# 2 fitur klasik\n",
    "x1 = 5\n",
    "x2 = 8"
   ]
  },
  {
   "cell_type": "code",
   "execution_count": 12,
   "id": "a9b408ae",
   "metadata": {},
   "outputs": [
    {
     "name": "stdout",
     "output_type": "stream",
     "text": [
      "     ┌───┐\n",
      "q_0: ┤ H ├\n",
      "     ├───┤\n",
      "q_1: ┤ H ├\n",
      "     └───┘\n",
      "Statevector([0.5+0.j, 0.5+0.j, 0.5+0.j, 0.5+0.j],\n",
      "            dims=(2, 2))\n"
     ]
    }
   ],
   "source": [
    "# Membuat QC dengan 2 qubit \n",
    "qc5 = QuantumCircuit(2)\n",
    "\n",
    "# Hadamard pada qubit qi (ke 1, 2, ....., n)\n",
    "qc5.h(0)\n",
    "qc5.h(1)\n",
    "\n",
    "simulator = Aer.get_backend('statevector_simulator')\n",
    "result = execute(qc5, simulator).result()\n",
    "statevector = result.get_statevector()\n",
    "print(qc5)\n",
    "print(statevector)"
   ]
  },
  {
   "cell_type": "code",
   "execution_count": 13,
   "id": "04ccf2d4",
   "metadata": {},
   "outputs": [
    {
     "data": {
      "image/png": "[encoded data removed]",
      "text/plain": [
       "<Figure size 203.683x200.667 with 1 Axes>"
      ]
     },
     "execution_count": 13,
     "metadata": {},
     "output_type": "execute_result"
    }
   ],
   "source": [
    "qc5.decompose().draw(output=\"mpl\", fold=50)          "
   ]
  },
  {
   "cell_type": "markdown",
   "id": "ee364223",
   "metadata": {},
   "source": [
    "- Statevector [0.5+0.j, 0.5+0.j, 0.5+0.j, 0.5+0.j] menunjukkan bahwa setelah menerapkan gate Hadamard pada dua qubit dalam sirkuit kuantum, keduanya berada dalam keadaan superposisi setara antara ∣0⟩ dan ∣1⟩ dengan keadaan kuantum ∣00⟩, ∣01⟩, ∣10⟩, ∣11⟩ dengan masing-masing amplitudo 0.5 yang sama di keempat komponen state."
   ]
  },
  {
   "cell_type": "code",
   "execution_count": 14,
   "id": "ce095c6b",
   "metadata": {},
   "outputs": [
    {
     "name": "stdout",
     "output_type": "stream",
     "text": [
      "     ┌───┐┌───────┐\n",
      "q_0: ┤ H ├┤ Rx(5) ├\n",
      "     ├───┤├───────┤\n",
      "q_1: ┤ H ├┤ Rx(8) ├\n",
      "     └───┘└───────┘\n",
      "Statevector([0.48829381-0.10755999j, 0.48829381-0.10755999j,\n",
      "             0.48829381-0.10755999j, 0.48829381-0.10755999j],\n",
      "            dims=(2, 2))\n"
     ]
    }
   ],
   "source": [
    "# Membuat QC dengan 2 qubit \n",
    "qc6 = QuantumCircuit(2)\n",
    "\n",
    "# Hadamard pada qubit qi\n",
    "qc6.h(0)\n",
    "qc6.h(1)\n",
    "\n",
    "# Rotasi X pada qubit qi dengan xi\n",
    "qc6.rx(x1, 0)\n",
    "qc6.rx(x2, 1)\n",
    "\n",
    "simulator = Aer.get_backend('statevector_simulator')\n",
    "result = execute(qc6, simulator).result()\n",
    "statevector = result.get_statevector()\n",
    "print(qc6)\n",
    "print(statevector)"
   ]
  },
  {
   "cell_type": "code",
   "execution_count": 15,
   "id": "91c7861f",
   "metadata": {},
   "outputs": [
    {
     "data": {
      "image/png": "[encoded data removed]",
      "text/plain": [
       "<Figure size 287.294x200.667 with 1 Axes>"
      ]
     },
     "execution_count": 15,
     "metadata": {},
     "output_type": "execute_result"
    }
   ],
   "source": [
    "qc6.decompose().draw(output=\"mpl\", fold=50)          "
   ]
  },
  {
   "cell_type": "code",
   "execution_count": 16,
   "id": "7d2ab86e",
   "metadata": {},
   "outputs": [],
   "source": [
    "# 3 fitur klasik\n",
    "x1 = 5\n",
    "x2 = 8\n",
    "x3 = 12"
   ]
  },
  {
   "cell_type": "code",
   "execution_count": 17,
   "id": "af51a994",
   "metadata": {},
   "outputs": [
    {
     "name": "stdout",
     "output_type": "stream",
     "text": [
      "     ┌───┐┌───────┐ \n",
      "q_0: ┤ H ├┤ Rx(5) ├─\n",
      "     ├───┤├───────┤ \n",
      "q_1: ┤ H ├┤ Rx(8) ├─\n",
      "     ├───┤├───────┴┐\n",
      "q_2: ┤ H ├┤ Rx(12) ├\n",
      "     └───┘└────────┘\n",
      "Statevector([0.35277496+0.02344833j, 0.35277496+0.02344833j,\n",
      "             0.35277496+0.02344833j, 0.35277496+0.02344833j,\n",
      "             0.35277496+0.02344833j, 0.35277496+0.02344833j,\n",
      "             0.35277496+0.02344833j, 0.35277496+0.02344833j],\n",
      "            dims=(2, 2, 2))\n"
     ]
    }
   ],
   "source": [
    "# Membuat QC dengan 3 qubit \n",
    "qc7 = QuantumCircuit(3)\n",
    "\n",
    "# Hadamard pada qubit qi\n",
    "qc7.h(0)\n",
    "qc7.h(1)\n",
    "qc7.h(2)\n",
    "\n",
    "# Rotasi X pada qubit qi sesuai dengan xi\n",
    "qc7.rx(x1, 0)\n",
    "qc7.rx(x2, 1)\n",
    "qc7.rx(x3, 2)\n",
    "\n",
    "simulator = Aer.get_backend('statevector_simulator')\n",
    "result = execute(qc7, simulator).result()\n",
    "statevector = result.get_statevector()\n",
    "print(qc7)\n",
    "print(statevector)"
   ]
  },
  {
   "cell_type": "code",
   "execution_count": 18,
   "id": "5efeae0c",
   "metadata": {},
   "outputs": [
    {
     "data": {
      "image/png": "[encoded data removed]",
      "text/plain": [
       "<Figure size 287.496x284.278 with 1 Axes>"
      ]
     },
     "execution_count": 18,
     "metadata": {},
     "output_type": "execute_result"
    }
   ],
   "source": [
    "qc7.decompose().draw(output=\"mpl\", fold=50)          "
   ]
  }
 ],
 "metadata": {
  "kernelspec": {
   "display_name": "Python 3 (ipykernel)",
   "language": "python",
   "name": "python3"
  },
  "language_info": {
   "codemirror_mode": {
    "name": "ipython",
    "version": 3
   },
   "file_extension": ".py",
   "mimetype": "text/x-python",
   "name": "python",
   "nbconvert_exporter": "python",
   "pygments_lexer": "ipython3",
   "version": "3.11.4"
  }
 },
 "nbformat": 4,
 "nbformat_minor": 5
}
