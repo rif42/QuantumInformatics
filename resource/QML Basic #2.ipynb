{
 "cells": [
  {
   "cell_type": "markdown",
   "id": "60b72125",
   "metadata": {},
   "source": [
    "# Quantum Neural Network (QNN) - Basic"
   ]
  },
  {
   "cell_type": "code",
   "execution_count": 1,
   "id": "688571e4",
   "metadata": {},
   "outputs": [],
   "source": [
    "# Impor librari\n",
    "import numpy as np\n",
    "import matplotlib.pyplot as plt\n",
    "\n",
    "from qiskit import QuantumCircuit, Aer, execute\n",
    "from qiskit.circuit.library import ZZFeatureMap\n",
    "from qiskit.circuit.library import ZFeatureMap\n",
    "from qiskit.circuit.library import PauliFeatureMap\n",
    "from qiskit.quantum_info import Statevector\n",
    "from qiskit.visualization import plot_histogram, plot_bloch_vector, plot_bloch_multivector, circuit_drawer\n",
    "\n",
    "from sympy import symbols, sqrt, latex\n",
    "\n",
    "from PIL import Image"
   ]
  },
  {
   "cell_type": "markdown",
   "id": "0418433e",
   "metadata": {},
   "source": [
    "# 3. Menambahkan Anzats"
   ]
  },
  {
   "cell_type": "markdown",
   "id": "0c19f990",
   "metadata": {},
   "source": [
    "### Single Qubit"
   ]
  },
  {
   "cell_type": "markdown",
   "id": "4295c38c",
   "metadata": {},
   "source": [
    "- Sebelum entanglement"
   ]
  },
  {
   "cell_type": "code",
   "execution_count": 9,
   "id": "c7ddd970",
   "metadata": {},
   "outputs": [
    {
     "name": "stdout",
     "output_type": "stream",
     "text": [
      "     ┌───┐┌─────────┐     \n",
      "q_0: ┤ H ├┤ Rx(0.5) ├──■──\n",
      "     ├───┤├─────────┤┌─┴─┐\n",
      "q_1: ┤ H ├┤ Ry(2.5) ├┤ X ├\n",
      "     └───┘└─────────┘└───┘\n",
      "Statevector([-0.30698162+0.07838528j,  0.61250137-0.15639728j,\n",
      "              0.61250137-0.15639728j, -0.30698162+0.07838528j],\n",
      "            dims=(2, 2))\n"
     ]
    }
   ],
   "source": [
    "# 1 fitur klasik\n",
    "x = 5\n",
    "\n",
    "# Membuat QC dengan 2 qubit\n",
    "qc1 = QuantumCircuit(2)\n",
    "\n",
    "# Rotasi H (Hadamard) pada qubit dengan nilai fitur x sebagai sudut rotasi\n",
    "qc1.h(0)\n",
    "qc1.h(1)\n",
    "\n",
    "# Anzats dapat terdiri dari serangkaian gerbang kuantum yang kompleks atau parameterized\n",
    "# Anzats dengan serangkaian rotasi Y dan rotasi parametrik pada qubit\n",
    "qc1.rx(0.5, 0)              # Rotasi Y pada keadaan qubit 0 sebesar 0.5 radian\n",
    "qc1.ry(0.5 * x, 1)          # Rotasi parametrik (bergantung pada nilai fitur x) pada keadaan qubit 1 sebesar 0.5*x radian \n",
    "\n",
    "# Gerbang CNOT untuk membuat entanglement antar keadaan qubit\n",
    "qc1.cx(0, 1)\n",
    "\n",
    "simulator = Aer.get_backend('statevector_simulator')\n",
    "result = execute(qc1, simulator).result()\n",
    "statevector = result.get_statevector()\n",
    "print(qc1)\n",
    "print(statevector)"
   ]
  },
  {
   "cell_type": "code",
   "execution_count": 4,
   "id": "42cc21de",
   "metadata": {},
   "outputs": [
    {
     "data": {
      "image/png": "[encoded data removed]",
      "text/plain": [
       "<Figure size 370.906x200.667 with 1 Axes>"
      ]
     },
     "execution_count": 4,
     "metadata": {},
     "output_type": "execute_result"
    }
   ],
   "source": [
    "qc1.decompose().draw(output=\"mpl\", fold=50)          # fold=50, maksimal blok-gate yang tampil dalam satu baris"
   ]
  },
  {
   "cell_type": "markdown",
   "id": "946232f0",
   "metadata": {},
   "source": [
    "- Setelah entanglement"
   ]
  },
  {
   "cell_type": "code",
   "execution_count": 10,
   "id": "9b477407",
   "metadata": {},
   "outputs": [
    {
     "name": "stdout",
     "output_type": "stream",
     "text": [
      "     ┌───┐     ┌─────────┐\n",
      "q_0: ┤ H ├──■──┤ Rx(0.5) ├\n",
      "     ├───┤┌─┴─┐└┬───────┬┘\n",
      "q_1: ┤ H ├┤ X ├─┤ Ry(1) ├─\n",
      "     └───┘└───┘ └───────┘ \n",
      "Statevector([0.19288964-0.04925281j, 0.19288964-0.04925281j,\n",
      "             0.657411  -0.16786459j, 0.657411  -0.16786459j],\n",
      "            dims=(2, 2))\n"
     ]
    }
   ],
   "source": [
    "# 1 fitur klasik\n",
    "x = 5\n",
    "\n",
    "# Membuat QC dengan 2 qubit\n",
    "qc2 = QuantumCircuit(2)\n",
    "\n",
    "# Rotasi H (Hadamard) pada qubit dengan nilai fitur x sebagai sudut rotasi\n",
    "qc2.h(0)\n",
    "qc2.h(1)\n",
    "\n",
    "# Gerbang CNOT untuk membuat entanglement antar keadaan qubit\n",
    "qc2.cx(0, 1)\n",
    "\n",
    "# Anzats dapat terdiri dari serangkaian gerbang kuantum yang kompleks atau parameterized\n",
    "# Anzats dengan serangkaian rotasi Y dan rotasi parametrik pada qubit\n",
    "qc2.rx(0.5, 0)              # Rotasi Y pada keadaan qubit 0 sebesar 0.5 radian\n",
    "qc2.ry(0.2 * x, 1)          # Rotasi parametrik (bergantung pada nilai fitur x) pada keadaan qubit 1 sebesar 0.5*x radian \n",
    "\n",
    "simulator = Aer.get_backend('statevector_simulator')\n",
    "result = execute(qc2, simulator).result()\n",
    "statevector = result.get_statevector()\n",
    "print(qc2)\n",
    "print(statevector)"
   ]
  },
  {
   "cell_type": "code",
   "execution_count": 11,
   "id": "5c72a71e",
   "metadata": {},
   "outputs": [
    {
     "data": {
      "image/png": "[encoded data removed]",
      "text/plain": [
       "<Figure size 370.906x200.667 with 1 Axes>"
      ]
     },
     "execution_count": 11,
     "metadata": {},
     "output_type": "execute_result"
    }
   ],
   "source": [
    "qc2.decompose().draw(output=\"mpl\", fold=50)          "
   ]
  },
  {
   "cell_type": "markdown",
   "id": "334324ba",
   "metadata": {},
   "source": [
    "### Multi Qubit"
   ]
  },
  {
   "cell_type": "code",
   "execution_count": 15,
   "id": "a060bd2a",
   "metadata": {},
   "outputs": [
    {
     "name": "stdout",
     "output_type": "stream",
     "text": [
      "     ┌───┐┌───────┐┌───────┐     \n",
      "q_0: ┤ H ├┤ Rx(5) ├┤ Ry(2) ├──■──\n",
      "     ├───┤├───────┤├───────┤┌─┴─┐\n",
      "q_1: ┤ H ├┤ Rx(8) ├┤ Ry(1) ├┤ X ├\n",
      "     └───┘└───────┘└───────┘└───┘\n",
      "Statevector([-0.0585525 +0.01289778j,  0.91558877-0.20168333j,\n",
      "             -0.19955999+0.04395852j,  0.26864106-0.0591755j ],\n",
      "            dims=(2, 2))\n"
     ]
    }
   ],
   "source": [
    "# Nilai fitur klasik\n",
    "x1 = 5\n",
    "x2 = 8\n",
    "\n",
    "# Membuat sirkuit quantum dengan 2 qubit\n",
    "qc3 = QuantumCircuit(2)\n",
    "\n",
    "# Hadamard pada qubit qi\n",
    "qc3.h(0)\n",
    "qc3.h(1)\n",
    "\n",
    "# Rotasi X pada qubit qi sesuai dengan xi\n",
    "qc3.rx(x1, 0)\n",
    "qc3.rx(x2, 1)\n",
    "\n",
    "# Anzats\n",
    "qc3.ry(0.4 * x, 0)\n",
    "qc3.ry(0.2 * x, 1)\n",
    "\n",
    "# Menambahkan gerbang CNOT untuk membuat entanglement antar qubit\n",
    "qc3.cx(0, 1)\n",
    "\n",
    "simulator = Aer.get_backend('statevector_simulator')\n",
    "result = execute(qc3, simulator).result()\n",
    "statevector = result.get_statevector()\n",
    "print(qc3)\n",
    "print(statevector)"
   ]
  },
  {
   "cell_type": "code",
   "execution_count": 16,
   "id": "3d59558d",
   "metadata": {},
   "outputs": [
    {
     "data": {
      "image/png": "[encoded data removed]",
      "text/plain": [
       "<Figure size 454.517x200.667 with 1 Axes>"
      ]
     },
     "execution_count": 16,
     "metadata": {},
     "output_type": "execute_result"
    }
   ],
   "source": [
    "qc3.decompose().draw(output=\"mpl\", fold=50)          "
   ]
  },
  {
   "cell_type": "code",
   "execution_count": 19,
   "id": "07fa267a",
   "metadata": {},
   "outputs": [
    {
     "name": "stdout",
     "output_type": "stream",
     "text": [
      "     ┌───┐┌─────────┐ ┌───────┐           \n",
      "q_0: ┤ H ├┤ Rx(0.5) ├─┤ Ry(2) ├───■───────\n",
      "     ├───┤├─────────┤ ├───────┤ ┌─┴─┐     \n",
      "q_1: ┤ H ├┤ Rx(0.8) ├─┤ Ry(1) ├─┤ X ├──■──\n",
      "     ├───┤├─────────┤┌┴───────┴┐└───┘┌─┴─┐\n",
      "q_2: ┤ H ├┤ Rx(1.2) ├┤ Ry(0.5) ├─────┤ X ├\n",
      "     └───┘└─────────┘└─────────┘     └───┘\n",
      "Statevector([-0.00964529+0.02902818j,  0.150824  -0.45391532j,\n",
      "             -0.05541771+0.16678346j,  0.07460149-0.22451839j,\n",
      "             -0.01626   +0.0489356j ,  0.25425855-0.76520882j,\n",
      "             -0.03287331+0.09893452j,  0.04425297-0.13318238j],\n",
      "            dims=(2, 2, 2))\n"
     ]
    }
   ],
   "source": [
    "# Nilai fitur klasik\n",
    "x1 = 0.5\n",
    "x2 = 0.8\n",
    "x3 = 1.2\n",
    "\n",
    "# Membuat QC dengan 3 qubit\n",
    "qc4 = QuantumCircuit(3)\n",
    "\n",
    "# Hadamard dan Rotasi X pada qubit qi sesuai dengan nilai fitur x1\n",
    "qc4.h(0)\n",
    "qc4.h(1)\n",
    "qc4.h(2)\n",
    "qc4.rx(x1, 0)\n",
    "qc4.rx(x2, 1)\n",
    "qc4.rx(x3, 2)\n",
    "\n",
    "# Anzats\n",
    "qc4.ry(0.4 * x, 0)\n",
    "qc4.ry(0.2 * x, 1)\n",
    "qc4.ry(0.1 * x, 2)\n",
    "\n",
    "# Entanglement menggunakan CNOT \n",
    "qc4.cx(0, 1)                            #(misal: qubit 0 sebagai kontrol, qubit 1 sebagai target)\n",
    "qc4.cx(1, 2)                            #(misal: qubit 0 sebagai kontrol, qubit 1 sebagai target)\n",
    "\n",
    "simulator = Aer.get_backend('statevector_simulator')\n",
    "result = execute(qc4, simulator).result()\n",
    "statevector = result.get_statevector()\n",
    "print(qc4)\n",
    "print(statevector)"
   ]
  },
  {
   "cell_type": "code",
   "execution_count": 20,
   "id": "8a27a5fd",
   "metadata": {},
   "outputs": [
    {
     "data": {
      "image/png": "[encoded data removed]",
      "text/plain": [
       "<Figure size 538.33x284.278 with 1 Axes>"
      ]
     },
     "execution_count": 20,
     "metadata": {},
     "output_type": "execute_result"
    }
   ],
   "source": [
    "qc4.decompose().draw(output=\"mpl\", fold=50)          "
   ]
  }
 ],
 "metadata": {
  "kernelspec": {
   "display_name": "Python 3 (ipykernel)",
   "language": "python",
   "name": "python3"
  },
  "language_info": {
   "codemirror_mode": {
    "name": "ipython",
    "version": 3
   },
   "file_extension": ".py",
   "mimetype": "text/x-python",
   "name": "python",
   "nbconvert_exporter": "python",
   "pygments_lexer": "ipython3",
   "version": "3.11.4"
  }
 },
 "nbformat": 4,
 "nbformat_minor": 5
}
