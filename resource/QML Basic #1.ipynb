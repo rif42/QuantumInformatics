{
 "cells": [
  {
   "cell_type": "markdown",
   "id": "60b72125",
   "metadata": {},
   "source": [
    "# Quantum Neural Network (QNN) - Basic"
   ]
  },
  {
   "cell_type": "code",
   "execution_count": 1,
   "id": "688571e4",
   "metadata": {},
   "outputs": [],
   "source": [
    "# Impor librari\n",
    "import numpy as np\n",
    "import matplotlib.pyplot as plt\n",
    "\n",
    "from qiskit import QuantumCircuit, Aer, execute\n",
    "from qiskit.circuit.library import ZZFeatureMap\n",
    "from qiskit.circuit.library import ZFeatureMap\n",
    "from qiskit.circuit.library import PauliFeatureMap\n",
    "from qiskit.quantum_info import Statevector\n",
    "from qiskit.visualization import plot_histogram, plot_bloch_vector, plot_bloch_multivector, circuit_drawer\n",
    "\n",
    "from sympy import symbols, sqrt, latex\n",
    "\n",
    "from PIL import Image"
   ]
  },
  {
   "cell_type": "markdown",
   "id": "0418433e",
   "metadata": {},
   "source": [
    "# 2. Entanglement"
   ]
  },
  {
   "cell_type": "markdown",
   "id": "0c19f990",
   "metadata": {},
   "source": [
    "### Single Qubit"
   ]
  },
  {
   "cell_type": "code",
   "execution_count": 2,
   "id": "bc3b1ecb",
   "metadata": {},
   "outputs": [],
   "source": [
    "# 1 fitur klasik\n",
    "x = 5"
   ]
  },
  {
   "cell_type": "code",
   "execution_count": 3,
   "id": "c7ddd970",
   "metadata": {},
   "outputs": [
    {
     "name": "stdout",
     "output_type": "stream",
     "text": [
      "     ┌───┐     \n",
      "q_0: ┤ H ├──■──\n",
      "     └───┘┌─┴─┐\n",
      "q_1: ─────┤ X ├\n",
      "          └───┘\n",
      "Statevector([0.70710678+0.j, 0.        +0.j, 0.        +0.j,\n",
      "             0.70710678+0.j],\n",
      "            dims=(2, 2))\n"
     ]
    }
   ],
   "source": [
    "# Membuat QC dengan 2 qubit\n",
    "qc1 = QuantumCircuit(2)\n",
    "\n",
    "# Rotasi H (Hadamard) pada qubit dengan nilai fitur x sebagai sudut rotasi\n",
    "qc1.h(0)\n",
    "\n",
    "# Gerbang CNOT untuk membuat entanglement antar keadaan qubit\n",
    "qc1.cx(0, 1)\n",
    "\n",
    "# Menjalankan QC pada simulator statevector\n",
    "simulator = Aer.get_backend('statevector_simulator')\n",
    "result = execute(qc1, simulator).result()\n",
    "statevector = result.get_statevector()\n",
    "\n",
    "# Menampilkan QC\n",
    "print(qc1)\n",
    "\n",
    "# Menampilkan hasil statevector\n",
    "print(statevector)"
   ]
  },
  {
   "cell_type": "code",
   "execution_count": 4,
   "id": "42cc21de",
   "metadata": {},
   "outputs": [
    {
     "data": {
      "image/png": "[encoded data removed]",
      "text/plain": [
       "<Figure size 287.294x200.667 with 1 Axes>"
      ]
     },
     "execution_count": 4,
     "metadata": {},
     "output_type": "execute_result"
    }
   ],
   "source": [
    "qc1.decompose().draw(output=\"mpl\", fold=50)          # fold=50, maksimal blok-gate yang tampil dalam satu baris"
   ]
  },
  {
   "cell_type": "markdown",
   "id": "334324ba",
   "metadata": {},
   "source": [
    "### Multi Qubit"
   ]
  },
  {
   "cell_type": "code",
   "execution_count": 5,
   "id": "a060bd2a",
   "metadata": {},
   "outputs": [
    {
     "name": "stdout",
     "output_type": "stream",
     "text": [
      "     ┌───┐┌───────┐     \n",
      "q_0: ┤ H ├┤ Rx(5) ├──■──\n",
      "     ├───┤├───────┤┌─┴─┐\n",
      "q_1: ┤ H ├┤ Rx(8) ├┤ X ├\n",
      "     └───┘└───────┘└───┘\n",
      "Statevector([0.48829381-0.10755999j, 0.48829381-0.10755999j,\n",
      "             0.48829381-0.10755999j, 0.48829381-0.10755999j],\n",
      "            dims=(2, 2))\n"
     ]
    }
   ],
   "source": [
    "# Nilai fitur klasik\n",
    "x1 = 5\n",
    "x2 = 8\n",
    "\n",
    "# Membuat sirkuit quantum dengan 2 qubit\n",
    "qc2 = QuantumCircuit(2)\n",
    "\n",
    "# Hadamard pada qubit qi\n",
    "qc2.h(0)\n",
    "qc2.h(1)\n",
    "\n",
    "# Rotasi X pada qubit qi sesuai dengan xi\n",
    "qc2.rx(x1, 0)\n",
    "qc2.rx(x2, 1)\n",
    "\n",
    "# Menambahkan gerbang CNOT untuk membuat entanglement antar qubit\n",
    "qc2.cx(0, 1)\n",
    "\n",
    "simulator = Aer.get_backend('statevector_simulator')\n",
    "result = execute(qc2, simulator).result()\n",
    "statevector = result.get_statevector()\n",
    "print(qc2)\n",
    "print(statevector)"
   ]
  },
  {
   "cell_type": "code",
   "execution_count": 6,
   "id": "3d59558d",
   "metadata": {},
   "outputs": [
    {
     "data": {
      "image/png": "[encoded data removed]",
      "text/plain": [
       "<Figure size 370.906x200.667 with 1 Axes>"
      ]
     },
     "execution_count": 6,
     "metadata": {},
     "output_type": "execute_result"
    }
   ],
   "source": [
    "qc2.decompose().draw(output=\"mpl\", fold=50)          # fold=50, maksimal blok-gate yang tampil dalam satu baris"
   ]
  },
  {
   "cell_type": "code",
   "execution_count": 7,
   "id": "3096e84e",
   "metadata": {},
   "outputs": [],
   "source": [
    "# 3 fitur klasik\n",
    "x1 = 5\n",
    "x2 = 8\n",
    "x3 = 12"
   ]
  },
  {
   "cell_type": "code",
   "execution_count": 8,
   "id": "07fa267a",
   "metadata": {},
   "outputs": [
    {
     "name": "stdout",
     "output_type": "stream",
     "text": [
      "     ┌───┐┌─────────┐     \n",
      "q_0: ┤ H ├┤ Rx(0.5) ├──■──\n",
      "     ├───┤├─────────┤┌─┴─┐\n",
      "q_1: ┤ H ├┤ Rx(0.8) ├┤ X ├\n",
      "     ├───┤├─────────┤└───┘\n",
      "q_2: ┤ H ├┤ Rx(1.2) ├─────\n",
      "     └───┘└─────────┘     \n",
      "Statevector([0.11148329-0.33551673j, 0.11148329-0.33551673j,\n",
      "             0.11148329-0.33551673j, 0.11148329-0.33551673j,\n",
      "             0.11148329-0.33551673j, 0.11148329-0.33551673j,\n",
      "             0.11148329-0.33551673j, 0.11148329-0.33551673j],\n",
      "            dims=(2, 2, 2))\n"
     ]
    }
   ],
   "source": [
    "# Nilai fitur klasik\n",
    "x1 = 0.5\n",
    "x2 = 0.8\n",
    "x3 = 1.2\n",
    "\n",
    "# Membuat QC dengan 3 qubit\n",
    "qc3 = QuantumCircuit(3)\n",
    "\n",
    "# Hadamard dan Rotasi X pada qubit qi sesuai dengan nilai fitur x1\n",
    "qc3.h(0)\n",
    "qc3.h(1)\n",
    "qc3.h(2)\n",
    "qc3.rx(x1, 0)\n",
    "qc3.rx(x2, 1)\n",
    "qc3.rx(x3, 2)\n",
    "\n",
    "# Entanglement menggunakan CNOT \n",
    "qc3.cx(0, 1)                            #(misal: qubit 0 sebagai kontrol, qubit 1 sebagai target)\n",
    "\n",
    "# Menjalankan QC pada simulator statevector\n",
    "simulator = Aer.get_backend('statevector_simulator')\n",
    "result = execute(qc3, simulator).result()\n",
    "statevector = result.get_statevector()\n",
    "\n",
    "# Menampilkan QC\n",
    "print(qc3)\n",
    "\n",
    "# Menampilkan hasil statevector\n",
    "print(statevector)"
   ]
  },
  {
   "cell_type": "code",
   "execution_count": 9,
   "id": "8a27a5fd",
   "metadata": {},
   "outputs": [
    {
     "data": {
      "image/png": "[encoded data removed]",
      "text/plain": [
       "<Figure size 371.107x284.278 with 1 Axes>"
      ]
     },
     "execution_count": 9,
     "metadata": {},
     "output_type": "execute_result"
    }
   ],
   "source": [
    "qc3.decompose().draw(output=\"mpl\", fold=50)          # fold=50, maksimal blok-gate yang tampil dalam satu baris"
   ]
  }
 ],
 "metadata": {
  "kernelspec": {
   "display_name": "Python 3 (ipykernel)",
   "language": "python",
   "name": "python3"
  },
  "language_info": {
   "codemirror_mode": {
    "name": "ipython",
    "version": 3
   },
   "file_extension": ".py",
   "mimetype": "text/x-python",
   "name": "python",
   "nbconvert_exporter": "python",
   "pygments_lexer": "ipython3",
   "version": "3.11.4"
  }
 },
 "nbformat": 4,
 "nbformat_minor": 5
}
